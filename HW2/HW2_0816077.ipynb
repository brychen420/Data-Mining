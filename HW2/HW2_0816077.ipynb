{
 "cells": [
  {
   "cell_type": "code",
   "execution_count": 1,
   "metadata": {},
   "outputs": [],
   "source": [
    "import pandas as pd\n",
    "import numpy as np"
   ]
  },
  {
   "cell_type": "code",
   "execution_count": 2,
   "metadata": {},
   "outputs": [
    {
     "data": {
      "text/html": [
       "<div>\n",
       "<style scoped>\n",
       "    .dataframe tbody tr th:only-of-type {\n",
       "        vertical-align: middle;\n",
       "    }\n",
       "\n",
       "    .dataframe tbody tr th {\n",
       "        vertical-align: top;\n",
       "    }\n",
       "\n",
       "    .dataframe thead th {\n",
       "        text-align: right;\n",
       "    }\n",
       "</style>\n",
       "<table border=\"1\" class=\"dataframe\">\n",
       "  <thead>\n",
       "    <tr style=\"text-align: right;\">\n",
       "      <th></th>\n",
       "      <th>rating</th>\n",
       "      <th>title</th>\n",
       "      <th>text</th>\n",
       "      <th>helpful_vote</th>\n",
       "      <th>verified_purchase</th>\n",
       "    </tr>\n",
       "  </thead>\n",
       "  <tbody>\n",
       "    <tr>\n",
       "      <th>0</th>\n",
       "      <td>1</td>\n",
       "      <td>Bristles fall out, also very stiff</td>\n",
       "      <td>The boar bristles fall out. The plastic bristl...</td>\n",
       "      <td>0</td>\n",
       "      <td>True</td>\n",
       "    </tr>\n",
       "    <tr>\n",
       "      <th>1</th>\n",
       "      <td>3</td>\n",
       "      <td>Moldy tape</td>\n",
       "      <td>I mean, 4 out of 6 tapes were alright… the oth...</td>\n",
       "      <td>3</td>\n",
       "      <td>True</td>\n",
       "    </tr>\n",
       "    <tr>\n",
       "      <th>2</th>\n",
       "      <td>5</td>\n",
       "      <td>Be prepared to wait</td>\n",
       "      <td>I did not like having to wait six months but t...</td>\n",
       "      <td>0</td>\n",
       "      <td>True</td>\n",
       "    </tr>\n",
       "    <tr>\n",
       "      <th>3</th>\n",
       "      <td>2</td>\n",
       "      <td>Creases up terribly, but sparkly!</td>\n",
       "      <td>Pearly shine and lovely packaging. However, I ...</td>\n",
       "      <td>0</td>\n",
       "      <td>True</td>\n",
       "    </tr>\n",
       "    <tr>\n",
       "      <th>4</th>\n",
       "      <td>5</td>\n",
       "      <td>Love these!! So pretty not too long, just wish...</td>\n",
       "      <td>Love these!! So pretty my favorite color &amp; not...</td>\n",
       "      <td>0</td>\n",
       "      <td>True</td>\n",
       "    </tr>\n",
       "  </tbody>\n",
       "</table>\n",
       "</div>"
      ],
      "text/plain": [
       "   rating                                              title  \\\n",
       "0       1                 Bristles fall out, also very stiff   \n",
       "1       3                                         Moldy tape   \n",
       "2       5                                Be prepared to wait   \n",
       "3       2                  Creases up terribly, but sparkly!   \n",
       "4       5  Love these!! So pretty not too long, just wish...   \n",
       "\n",
       "                                                text  helpful_vote  \\\n",
       "0  The boar bristles fall out. The plastic bristl...             0   \n",
       "1  I mean, 4 out of 6 tapes were alright… the oth...             3   \n",
       "2  I did not like having to wait six months but t...             0   \n",
       "3  Pearly shine and lovely packaging. However, I ...             0   \n",
       "4  Love these!! So pretty my favorite color & not...             0   \n",
       "\n",
       "   verified_purchase  \n",
       "0               True  \n",
       "1               True  \n",
       "2               True  \n",
       "3               True  \n",
       "4               True  "
      ]
     },
     "execution_count": 2,
     "metadata": {},
     "output_type": "execute_result"
    }
   ],
   "source": [
    "data_path = 'data/'\n",
    "train_df = pd.read_json(data_path + 'train.json')\n",
    "test_df = pd.read_json(data_path + 'test.json')\n",
    "\n",
    "train_df.head()"
   ]
  },
  {
   "cell_type": "code",
   "execution_count": 3,
   "metadata": {},
   "outputs": [],
   "source": [
    "def merge_title_text(df):\n",
    "\ttext_list = []\n",
    "\tfor title, text in zip(df['title'], df['text']):\n",
    "\t\tmerged = title + ' ' + text\n",
    "\t\ttext_list.append(merged)\n",
    "\tdf = df.assign(merged=text_list)\n",
    "\t\n",
    "\treturn df"
   ]
  },
  {
   "cell_type": "code",
   "execution_count": 4,
   "metadata": {},
   "outputs": [
    {
     "name": "stdout",
     "output_type": "stream",
     "text": [
      "Bristles fall out, also very stiff The boar bristles fall out. The plastic bristles are so stiff that I am not convinced the boar bristles can even brush through my hair. I do not recommend!\n"
     ]
    }
   ],
   "source": [
    "train_df_merged = merge_title_text(train_df)\n",
    "test_df_merged = merge_title_text(test_df)\n",
    "\n",
    "print(train_df_merged.iloc[0]['merged'])"
   ]
  },
  {
   "cell_type": "code",
   "execution_count": 5,
   "metadata": {},
   "outputs": [
    {
     "name": "stdout",
     "output_type": "stream",
     "text": [
      "35000\n",
      "[0, 2, 4, 1, 4, 0, 4, 3, 2, 4]\n"
     ]
    }
   ],
   "source": [
    "train_list = list(train_df_merged['merged'])\n",
    "train_rating = list(train_df_merged['rating'])\n",
    "train_rating = [rating - 1 for rating in train_rating]\n",
    "\n",
    "test_list = list(test_df_merged['merged'])\n",
    "\n",
    "print(len(train_list))\n",
    "print(train_rating[:10])"
   ]
  },
  {
   "cell_type": "code",
   "execution_count": 6,
   "metadata": {},
   "outputs": [],
   "source": [
    "import torch\n",
    "from torch import nn\n",
    "from torch.utils.data import DataLoader, Dataset\n",
    "\n",
    "from transformers.models.bert.modeling_bert import BertModel\n",
    "from transformers.optimization import get_linear_schedule_with_warmup\n",
    "from sklearn.metrics import accuracy_score, classification_report"
   ]
  },
  {
   "cell_type": "code",
   "execution_count": 7,
   "metadata": {},
   "outputs": [],
   "source": [
    "class TextClassificationDataset(Dataset):\n",
    "\tdef __init__(self, texts, labels, tokenizer, max_length):\n",
    "\t\tself.texts = texts\n",
    "\t\tself.labels = labels\n",
    "\t\tself.tokenizer = tokenizer\n",
    "\t\tself.max_length = max_length\n",
    "  \n",
    "\tdef __len__(self):\n",
    "\t\treturn len(self.texts)\n",
    "\t\n",
    "\tdef __getitem__(self, idx):\n",
    "\t\ttext = self.texts[idx]\n",
    "\t\tlabel = self.labels[idx]\n",
    "\t\tencoding = self.tokenizer(text, return_tensors='pt', max_length=self.max_length, padding='max_length', truncation=True)\n",
    "  \n",
    "\t\treturn {'input_ids': encoding['input_ids'].flatten(), 'attention_mask': encoding['attention_mask'].flatten(), 'label': torch.tensor(label)}"
   ]
  },
  {
   "cell_type": "code",
   "execution_count": 8,
   "metadata": {},
   "outputs": [],
   "source": [
    "class BERTClassifier(nn.Module):\n",
    "\tdef __init__(self, bert_model_name, num_classes):\n",
    "\t\tsuper(BERTClassifier, self).__init__()\n",
    "\t\tself.bert = BertModel.from_pretrained(bert_model_name)\n",
    "\t\tself.dropout = nn.Dropout(0.1)\n",
    "\t\tself.fc = nn.Linear(self.bert.config.hidden_size, num_classes)\n",
    "\t\t\n",
    "\tdef forward(self, input_ids, attention_mask):\n",
    "\t\toutputs = self.bert(input_ids=input_ids, attention_mask=attention_mask)\n",
    "\t\tpooled_output = outputs.pooler_output\n",
    "\t\tx = self.dropout(pooled_output)\n",
    "\t\tlogits = self.fc(x)\n",
    "  \n",
    "\t\treturn logits"
   ]
  },
  {
   "cell_type": "code",
   "execution_count": 9,
   "metadata": {},
   "outputs": [],
   "source": [
    "def train(model, data_loader, optimizer, scheduler, device):\n",
    "    model.train()\n",
    "    for batch in data_loader:\n",
    "        optimizer.zero_grad()\n",
    "        input_ids = batch['input_ids'].to(device)\n",
    "        attention_mask = batch['attention_mask'].to(device)\n",
    "        labels = batch['label'].to(device)\n",
    "        outputs = model(input_ids=input_ids, attention_mask=attention_mask)\n",
    "        loss = nn.CrossEntropyLoss()(outputs, labels)\n",
    "        loss.backward()\n",
    "        optimizer.step()\n",
    "        scheduler.step()"
   ]
  },
  {
   "cell_type": "code",
   "execution_count": 10,
   "metadata": {},
   "outputs": [],
   "source": [
    "def evaluate(model, data_loader, device):\n",
    "    model.eval()\n",
    "    predictions = []\n",
    "    actual_labels = []\n",
    "    with torch.no_grad():\n",
    "        for batch in data_loader:\n",
    "            input_ids = batch['input_ids'].to(device)\n",
    "            attention_mask = batch['attention_mask'].to(device)\n",
    "            labels = batch['label'].to(device)\n",
    "            outputs = model(input_ids=input_ids, attention_mask=attention_mask)\n",
    "            _, preds = torch.max(outputs, dim=1)\n",
    "            predictions.extend(preds.cpu().tolist())\n",
    "            actual_labels.extend(labels.cpu().tolist())\n",
    "            \n",
    "    return accuracy_score(actual_labels, predictions), classification_report(actual_labels, predictions)"
   ]
  },
  {
   "cell_type": "code",
   "execution_count": 11,
   "metadata": {},
   "outputs": [],
   "source": [
    "def predict_rating(model, data_loader, device):\n",
    "\tmodel.eval()\n",
    "\tpredictions = []\n",
    "\twith torch.no_grad():\n",
    "\t\tfor batch in data_loader:\n",
    "\t\t\tinput_ids = batch['input_ids'].to(device)\n",
    "\t\t\tattention_mask = batch['attention_mask'].to(device)\n",
    "\t\t\toutputs = model(input_ids=input_ids, attention_mask=attention_mask)\n",
    "\t\t\t_, preds = torch.max(outputs, dim=1)\n",
    "\t\t\tpreds = preds + 1\n",
    "\t\t\tpredictions.extend(preds.cpu().tolist())\n",
    "   \n",
    "\treturn predictions"
   ]
  },
  {
   "cell_type": "code",
   "execution_count": 12,
   "metadata": {},
   "outputs": [],
   "source": [
    "bert_model_name = 'bert-base-uncased'\n",
    "num_classes = 5\n",
    "max_length = 128\n",
    "batch_size = 16\n",
    "num_epochs = 4\n",
    "learning_rate = 1e-5"
   ]
  },
  {
   "cell_type": "code",
   "execution_count": 13,
   "metadata": {},
   "outputs": [],
   "source": [
    "from transformers.models.bert.tokenization_bert import BertTokenizer\n",
    "tokenizer = BertTokenizer.from_pretrained(bert_model_name)"
   ]
  },
  {
   "cell_type": "code",
   "execution_count": 14,
   "metadata": {},
   "outputs": [
    {
     "name": "stderr",
     "output_type": "stream",
     "text": [
      "Token indices sequence length is longer than the specified maximum sequence length for this model (874 > 512). Running this sequence through the model will result in indexing errors\n"
     ]
    }
   ],
   "source": [
    "from collections import Counter\n",
    "import math\n",
    "\n",
    "len_list = []\n",
    "max_len = 0\n",
    "span = 16\n",
    "for text in train_list:\n",
    "    length = len(tokenizer(text)['input_ids'])\n",
    "    length = math.floor(length / span)\n",
    "    max_len = max(max_len, length)\n",
    "    len_list.append(length)\n",
    "    \n",
    "cnt = Counter(len_list)"
   ]
  },
  {
   "cell_type": "code",
   "execution_count": 15,
   "metadata": {},
   "outputs": [
    {
     "name": "stdout",
     "output_type": "stream",
     "text": [
      "Tokenized Sequence Length:\n",
      "0 - 15: 6196\n",
      "16 - 31: 8458\n",
      "32 - 47: 5927\n",
      "48 - 63: 4150\n",
      "64 - 79: 2681\n",
      "80 - 95: 1795\n",
      "96 - 111: 1277\n",
      "112 - 127: 931\n",
      "128 - 143: 648\n",
      "144 - 159: 534\n",
      "160 - 175: 413\n",
      "176 - 191: 337\n",
      "192 - 207: 231\n",
      "208 - 223: 191\n",
      "224 - 239: 156\n",
      "240 - 255: 171\n",
      "256 - 271: 124\n",
      "272 - 287: 90\n",
      "288 - 303: 97\n",
      "304 - 319: 66\n",
      "320 - 335: 63\n",
      "336 - 351: 56\n",
      "352 - 367: 41\n",
      "368 - 383: 30\n",
      "384 - 399: 42\n",
      "400 - 415: 32\n",
      "416 - 431: 22\n",
      "432 - 447: 27\n",
      "448 - 463: 18\n",
      "464 - 479: 23\n",
      "480 - 495: 14\n",
      "496 - 511: 8\n",
      "512 or more: 151\n"
     ]
    }
   ],
   "source": [
    "print('Tokenized Sequence Length:')\n",
    "\n",
    "total = 0\n",
    "for key, value in sorted(cnt.items()):\n",
    "    if(key >= 32):\n",
    "        break\n",
    "    total += value\n",
    "    print(f'{key * span} - {(key + 1) * span - 1}: {value}')\n",
    "\n",
    "print(f'{32 * span} or more: {len(train_list) - total}')"
   ]
  },
  {
   "cell_type": "code",
   "execution_count": 16,
   "metadata": {},
   "outputs": [
    {
     "data": {
      "text/plain": [
       "[Text(0, 0, '0'),\n",
       " Text(1, 0, '16'),\n",
       " Text(2, 0, '32'),\n",
       " Text(3, 0, '48'),\n",
       " Text(4, 0, '64'),\n",
       " Text(5, 0, '80'),\n",
       " Text(6, 0, '96'),\n",
       " Text(7, 0, '112'),\n",
       " Text(8, 0, '128'),\n",
       " Text(9, 0, '144'),\n",
       " Text(10, 0, '160'),\n",
       " Text(11, 0, '176'),\n",
       " Text(12, 0, '192'),\n",
       " Text(13, 0, '208'),\n",
       " Text(14, 0, '224'),\n",
       " Text(15, 0, '240'),\n",
       " Text(16, 0, '256'),\n",
       " Text(17, 0, '272'),\n",
       " Text(18, 0, '288'),\n",
       " Text(19, 0, '304'),\n",
       " Text(20, 0, '320'),\n",
       " Text(21, 0, '336'),\n",
       " Text(22, 0, '352'),\n",
       " Text(23, 0, '368'),\n",
       " Text(24, 0, '384'),\n",
       " Text(25, 0, '400'),\n",
       " Text(26, 0, '416'),\n",
       " Text(27, 0, '432'),\n",
       " Text(28, 0, '448'),\n",
       " Text(29, 0, '464'),\n",
       " Text(30, 0, '480'),\n",
       " Text(31, 0, '496'),\n",
       " Text(32, 0, '512')]"
      ]
     },
     "execution_count": 16,
     "metadata": {},
     "output_type": "execute_result"
    },
    {
     "data": {
      "image/png": "[encoded data removed]",
      "text/plain": [
       "<Figure size 720x288 with 1 Axes>"
      ]
     },
     "metadata": {
      "needs_background": "light"
     },
     "output_type": "display_data"
    }
   ],
   "source": [
    "import matplotlib.pyplot as plt\n",
    "\n",
    "count_list = []\n",
    "for i in range(max_len + 1):\n",
    "    count_list.append(cnt[i])\n",
    "    \n",
    "indices = np.arange(max_len + 1)\n",
    "fig, ax = plt.subplots(figsize = (10,4))\n",
    "ax.bar(indices[:33], count_list[:33])\n",
    "ax.set_xticks(indices[:33])\n",
    "ax.set_xticklabels(indices[:33] * span, rotation=65)"
   ]
  },
  {
   "cell_type": "code",
   "execution_count": 17,
   "metadata": {},
   "outputs": [
    {
     "name": "stdout",
     "output_type": "stream",
     "text": [
      "31500 3500\n"
     ]
    }
   ],
   "source": [
    "from sklearn.model_selection import train_test_split \n",
    "X_train, X_val, y_train, y_val = train_test_split(train_list, train_rating, test_size=0.1, random_state=31)\n",
    "\n",
    "print(len(X_train), len(X_val))"
   ]
  },
  {
   "cell_type": "code",
   "execution_count": 18,
   "metadata": {},
   "outputs": [],
   "source": [
    "train_dataset = TextClassificationDataset(X_train, y_train, tokenizer, max_length)\n",
    "val_dataset = TextClassificationDataset(X_val, y_val, tokenizer, max_length)\n",
    "test_dataset = TextClassificationDataset(test_list, [0] * len(test_list), tokenizer, max_length)\n",
    "\n",
    "train_dataloader = DataLoader(train_dataset, batch_size=batch_size, shuffle=True)\n",
    "val_dataloader = DataLoader(val_dataset, batch_size=batch_size)\n",
    "test_dataloader = DataLoader(test_dataset, batch_size=batch_size)"
   ]
  },
  {
   "cell_type": "code",
   "execution_count": 19,
   "metadata": {},
   "outputs": [],
   "source": [
    "train_text_list = list(train_df['text'])\n",
    "train_title_list = list(train_df['text'])\n",
    "X_text_train, X_text_val, y_train, y_val = train_test_split(train_text_list, train_rating, test_size=0.1, random_state=31)\n",
    "X_title_train, X_title_val, y_train, y_val = train_test_split(train_title_list, train_rating, test_size=0.1, random_state=31)\n",
    "\n",
    "train_text_dataset = TextClassificationDataset(X_text_train, y_train, tokenizer, max_length)\n",
    "val_text_dataset = TextClassificationDataset(X_text_val, y_val, tokenizer, max_length)\n",
    "train_text_dataloader = DataLoader(train_text_dataset, batch_size=batch_size, shuffle=True)\n",
    "val_text_dataloader = DataLoader(val_text_dataset, batch_size=batch_size)\n",
    "\n",
    "train_title_dataset = TextClassificationDataset(X_title_train, y_train, tokenizer, max_length)\n",
    "val_title_dataset = TextClassificationDataset(X_title_val, y_val, tokenizer, max_length)\n",
    "train_title_dataloader = DataLoader(train_title_dataset, batch_size=batch_size, shuffle=True)\n",
    "val_title_dataloader = DataLoader(val_title_dataset, batch_size=batch_size)"
   ]
  },
  {
   "cell_type": "code",
   "execution_count": null,
   "metadata": {},
   "outputs": [],
   "source": [
    "device = torch.device(\"cuda\" if torch.cuda.is_available() else \"cpu\")\n",
    "model = BERTClassifier(bert_model_name, num_classes).to(device)\n",
    "optimizer = torch.optim.AdamW(model.parameters(), lr=learning_rate)\n",
    "total_steps = len(train_dataloader) * num_epochs\n",
    "scheduler = get_linear_schedule_with_warmup(optimizer, num_warmup_steps=0, num_training_steps=total_steps)"
   ]
  },
  {
   "cell_type": "code",
   "execution_count": null,
   "metadata": {},
   "outputs": [],
   "source": [
    "for epoch in range(num_epochs):\n",
    "\tprint(f\"Epoch {epoch + 1}/{num_epochs}\")\n",
    "\ttrain(model, train_dataloader, optimizer, scheduler, device)\n",
    "\taccuracy, report = evaluate(model, val_dataloader, device)\n",
    "\tprint(f\"Validation Accuracy: {accuracy:.4f}\")\n",
    "\tprint(report)"
   ]
  },
  {
   "cell_type": "code",
   "execution_count": null,
   "metadata": {},
   "outputs": [],
   "source": [
    "predict = predict_rating(model, test_dataloader, device)\n",
    "\n",
    "indices = ['index_' + str(i) for i in range(len(predict))]\n",
    "data = {\"index\": indices ,\"rating\": predict}\n",
    "out_df = pd.DataFrame(data, columns=[\"index\", \"rating\"])\n",
    "out_df.to_csv('result.csv', index=False, header=True)"
   ]
  },
  {
   "cell_type": "code",
   "execution_count": null,
   "metadata": {},
   "outputs": [],
   "source": [
    "model = BERTClassifier(bert_model_name, num_classes).to(device)\n",
    "optimizer = torch.optim.AdamW(model.parameters(), lr=learning_rate)\n",
    "total_steps = len(train_dataloader) * num_epochs\n",
    "scheduler = get_linear_schedule_with_warmup(optimizer, num_warmup_steps=0, num_training_steps=total_steps)\n",
    "\n",
    "for epoch in range(num_epochs):\n",
    "    print(f\"Epoch {epoch + 1}/{num_epochs}\")\n",
    "    train(model, train_text_dataloader, optimizer, scheduler, device)\n",
    "    accuracy, report = evaluate(model, val_text_dataloader, device)\n",
    "    print(f\"Validation Accuracy: {accuracy:.4f}\")\n",
    "    print(report)"
   ]
  },
  {
   "cell_type": "code",
   "execution_count": null,
   "metadata": {},
   "outputs": [],
   "source": [
    "model = BERTClassifier(bert_model_name, num_classes).to(device)\n",
    "optimizer = torch.optim.AdamW(model.parameters(), lr=learning_rate)\n",
    "total_steps = len(train_dataloader) * num_epochs\n",
    "scheduler = get_linear_schedule_with_warmup(optimizer, num_warmup_steps=0, num_training_steps=total_steps)\n",
    "\n",
    "for epoch in range(num_epochs):\n",
    "    print(f\"Epoch {epoch + 1}/{num_epochs}\")\n",
    "    train(model, train_title_dataloader, optimizer, scheduler, device)\n",
    "    accuracy, report = evaluate(model, val_title_dataloader, device)\n",
    "    print(f\"Validation Accuracy: {accuracy:.4f}\")\n",
    "    print(report)"
   ]
  }
 ],
 "metadata": {
  "kernelspec": {
   "display_name": "Python 3",
   "language": "python",
   "name": "python3"
  },
  "language_info": {
   "codemirror_mode": {
    "name": "ipython",
    "version": 3
   },
   "file_extension": ".py",
   "mimetype": "text/x-python",
   "name": "python",
   "nbconvert_exporter": "python",
   "pygments_lexer": "ipython3",
   "version": "3.10.4"
  }
 },
 "nbformat": 4,
 "nbformat_minor": 2
}
